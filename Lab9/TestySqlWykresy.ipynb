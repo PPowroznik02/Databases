{
 "cells": [
  {
   "cell_type": "markdown",
   "id": "d102b7ad-7295-4988-b2d6-6f71a2e69014",
   "metadata": {},
   "source": [
    "# Analiza czasow wykonywania zapytan w MySql i PostgreSql"
   ]
  },
  {
   "cell_type": "code",
   "execution_count": 1,
   "id": "ec78c405-0943-4aa6-ac73-3dea9d52e60f",
   "metadata": {},
   "outputs": [],
   "source": [
    "import matplotlib.pyplot as plt\n",
    "import seaborn as sns\n",
    "import matplotlib.patches as mpatches"
   ]
  },
  {
   "cell_type": "markdown",
   "id": "f03eb5c3-11b0-42c8-8c4b-738fc7610242",
   "metadata": {},
   "source": [
    "## Przygotowanie danych dla PostgreSql"
   ]
  },
  {
   "cell_type": "code",
   "execution_count": 2,
   "id": "c7d77ae2-3ca7-4def-b446-46f3ed492153",
   "metadata": {},
   "outputs": [],
   "source": [
    "PG1_B = [190,150,178,153,184,169,161,140,194,198,153,143]\n",
    "PG2_B = [275,265,278,281,273,269,250,247,257,250,272,281]\n",
    "PG3_B = [14224,14156,14187,14147,14179,13687,14194,14145,14158,13596,13565,14234]\n",
    "PG4_B = [151,149,154,147,149,148,165,148,146,151,150,179]\n",
    "\n",
    "\n",
    "PG1_I = [140,148,143,160,145,153,153,147,137,151,153,194]\n",
    "PG2_I = [211,259,247,238,211,198,215,268,221,226,202,248]\n",
    "PG3_I = [13605,14247,13588,14195,13631,14208,13564,14261,13606,13661,13539,14201]\n",
    "PG4_I = [179,164,163,150,160,161,144,209,127,179,158,161]"
   ]
  },
  {
   "cell_type": "markdown",
   "id": "9d4e9484-b5ad-4ba1-9d15-938b2c24e0b6",
   "metadata": {},
   "source": [
    "## Przygotowanie danych dla MySql"
   ]
  },
  {
   "cell_type": "code",
   "execution_count": 3,
   "id": "3e628db7-6e2e-479e-af4e-2c6e8b69384a",
   "metadata": {},
   "outputs": [],
   "source": [
    "MS1_B = [1969,1922,1922,1906,1922,1953,1953,1906,1890,1890,1938,1937]\n",
    "MS2_B = [7234,7250,7328,7484,7250,7407,7437,7203,7468,7266,7312,7297]\n",
    "MS3_B = [2782,2766,1984,1953,1984,1984,1953,1969,2000,1969,1953,2000]\n",
    "MS4_B = [7328,7328,7265,7390,7688,7453,7375,7437,7422,7437,7500,7407]\n",
    "\n",
    "\n",
    "MS1_I = [1078,860,875,891,906,875,860,875,859,859,859,875]\n",
    "MS2_I = [6531,6719,7313,6735,6625,6516,6469,6640,6547,6500,6531,6625]\n",
    "MS3_I = [922,906,922,907,922,922,906,921,922,922,922,907]\n",
    "MS4_I = [6343,6344,6406,6328,6390,6312,6500,6453,6359,6422,6344,6437]"
   ]
  },
  {
   "cell_type": "markdown",
   "id": "9c35afb2-403a-41da-834f-00230c450d01",
   "metadata": {},
   "source": [
    "## Delkaracja funkcji"
   ]
  },
  {
   "cell_type": "code",
   "execution_count": 4,
   "id": "31ff6fbc-a19d-46e0-83e2-d6840dadfcff",
   "metadata": {},
   "outputs": [],
   "source": [
    "def DropMinMax(l):\n",
    "    l.sort()\n",
    "    s = len(l)\n",
    "    l = l[1:(s-1)]\n",
    "    return(l)\n",
    "\n",
    "def AvgOf8Lists(l1, l2, l3, l4, l5, l6, l7, l8):\n",
    "    avg1 = sum(l1)/len(l1)\n",
    "    avg2 = sum(l2)/len(l2)\n",
    "    \n",
    "    avg3 = sum(l3)/len(l3)\n",
    "    avg4 = sum(l4)/len(l4)\n",
    "    \n",
    "    avg5 = sum(l5)/len(l5)\n",
    "    avg6 = sum(l6)/len(l6)\n",
    "    \n",
    "    avg7 = sum(l7)/len(l7)\n",
    "    avg8 = sum(l8)/len(l8)\n",
    "    res = [avg1, avg2, avg3, avg4, avg5, avg6, avg7, avg8]\n",
    "    \n",
    "    return(res)\n",
    "\n",
    "\n",
    "def MinOf8Lists(l1, l2, l3, l4, l5, l6, l7, l8):\n",
    "    avg1 = min(l1)\n",
    "    avg2 = min(l2)\n",
    "    \n",
    "    avg3 = min(l3)\n",
    "    avg4 = min(l4)\n",
    "    \n",
    "    avg5 = min(l5)\n",
    "    avg6 = min(l6)\n",
    "    \n",
    "    avg7 = min(l7)\n",
    "    avg8 = min(l8)\n",
    "    res = [avg1, avg2, avg3, avg4, avg5, avg6, avg7, avg8]\n",
    "    \n",
    "    return(res)"
   ]
  },
  {
   "cell_type": "markdown",
   "id": "96a10eef-8487-4f62-924c-802684194a0a",
   "metadata": {},
   "source": [
    "## Usuniecie skrajnej wartosci minimalnej i skrajnej wartosci maksymalnej"
   ]
  },
  {
   "cell_type": "code",
   "execution_count": 5,
   "id": "16fb860c-2ba7-438a-8a8d-943422cfd328",
   "metadata": {},
   "outputs": [],
   "source": [
    "PG1_B = DropMinMax(PG1_B)\n",
    "PG2_B = DropMinMax(PG2_B)\n",
    "PG3_B = DropMinMax(PG3_B)\n",
    "PG4_B = DropMinMax(PG4_B)\n",
    "\n",
    "PG1_I = DropMinMax(PG1_I)\n",
    "PG2_I = DropMinMax(PG2_I)\n",
    "PG3_I = DropMinMax(PG3_I)\n",
    "PG4_I = DropMinMax(PG4_I)\n",
    "\n",
    "MS1_B = DropMinMax(MS1_B)\n",
    "MS2_B = DropMinMax(MS2_B)\n",
    "MS3_B = DropMinMax(MS3_B)\n",
    "MS4_B = DropMinMax(MS4_B)\n",
    "\n",
    "MS1_I = DropMinMax(MS1_I)\n",
    "MS2_I = DropMinMax(MS2_I)\n",
    "MS3_I = DropMinMax(MS3_I)\n",
    "MS4_I = DropMinMax(MS4_I)"
   ]
  },
  {
   "cell_type": "markdown",
   "id": "4b5c7295-6dd1-41f0-bc10-a5eb9be43809",
   "metadata": {},
   "source": [
    "## Obliczenie srednich i wartosci minimalnych"
   ]
  },
  {
   "cell_type": "code",
   "execution_count": 6,
   "id": "a41b37f8-ce10-4561-bbdb-dfc7427f9106",
   "metadata": {},
   "outputs": [
    {
     "name": "stdout",
     "output_type": "stream",
     "text": [
      "<class 'list'>\n",
      "<class 'list'>\n"
     ]
    }
   ],
   "source": [
    "PostgreSql_avg = AvgOf8Lists(PG1_B, PG1_I, PG2_B, PG2_I, PG3_B, PG3_I, PG4_B, PG4_I)\n",
    "MySql_avg = AvgOf8Lists(MS1_B, MS1_I, MS2_B, MS2_I, MS3_B, MS3_I, MS4_B, MS4_I)\n",
    "\n",
    "PostgreSql_min = MinOf8Lists(PG1_B, PG1_I, PG2_B, PG2_I, PG3_B, PG3_I, PG4_B, PG4_I)\n",
    "MySql_min = MinOf8Lists(MS1_B, MS1_I, MS2_B, MS2_I, MS3_B, MS3_I, MS4_B, MS4_I)"
   ]
  },
  {
   "cell_type": "code",
   "execution_count": 7,
   "id": "cd22c20e-087e-4a0b-9ab3-523c7089dbf9",
   "metadata": {},
   "outputs": [
    {
     "name": "stdout",
     "output_type": "stream",
     "text": [
      "Minimalne wartosci PostgreSql i MySql\n",
      "[143, 140, 250, 202, 13596, 13564, 147, 144]\n",
      "[1890, 859, 7234, 6500, 1953, 906, 7328, 6328]\n",
      "Srednie wartosci PostgreSql i MySql\n",
      "[167.5, 149.3, 267.0, 227.8, 14067.3, 13850.6, 151.2, 161.9]\n",
      "[1924.9, 873.5, 7324.9, 6596.9, 2056.2, 917.3, 7407.7, 6382.6]\n"
     ]
    }
   ],
   "source": [
    "print(\"Minimalne wartosci PostgreSql i MySql\")\n",
    "print(PostgreSql_min)\n",
    "print(MySql_min)\n",
    "\n",
    "print(\"Srednie wartosci PostgreSql i MySql\")\n",
    "print(PostgreSql_avg)\n",
    "print(MySql_avg)"
   ]
  },
  {
   "cell_type": "markdown",
   "id": "4ff2dae8-6ede-45db-add1-b9d1e75e994d",
   "metadata": {},
   "source": [
    "## Stworzenie wykresow"
   ]
  },
  {
   "cell_type": "code",
   "execution_count": 8,
   "id": "a0be6cd1-c2a3-4862-bdfe-8a6878fc2185",
   "metadata": {},
   "outputs": [],
   "source": [
    "Indexes = ['1ST', '1ST_I', '2ST', '2ST_I', '3ST', '3ST_I', '4ST', '4ST_I',]\n",
    "colors = ['blue', 'lime']\n",
    "pop_a = mpatches.Patch(color='blue', label='Bez indeksow')\n",
    "pop_b = mpatches.Patch(color='lime', label='Z indeksami')"
   ]
  },
  {
   "cell_type": "code",
   "execution_count": 9,
   "id": "776a2593-5269-469d-9e9d-59b339741ed7",
   "metadata": {},
   "outputs": [
    {
     "data": {
      "image/png": "[encoded data removed]",
      "text/plain": [
       "<Figure size 1000x500 with 2 Axes>"
      ]
     },
     "metadata": {},
     "output_type": "display_data"
    }
   ],
   "source": [
    "fig, (ax1,ax2) = plt.subplots(1,2, figsize=(10,5))\n",
    "ax1.bar(Indexes,PostgreSql_avg, color=colors)\n",
    "ax1.set_yscale('log')\n",
    "ax1.set_title(\"PostgreSql_avg\")\n",
    "ax1.set_ylabel(\"Czas [msec]\")\n",
    "ax1.legend(handles=[pop_a,pop_b])\n",
    "\n",
    "\n",
    "ax2.bar(Indexes, MySql_avg, color=colors)\n",
    "ax2.set_yscale('log')\n",
    "ax2.set_title(\"MySql_avg\")\n",
    "ax2.set_ylabel(\"Czas [msec]\")\n",
    "ax2.legend(handles=[pop_a,pop_b])\n",
    "\n",
    "fig.savefig('TestyBazDanych.png')"
   ]
  },
  {
   "cell_type": "code",
   "execution_count": null,
   "id": "83698875-726a-4385-b829-2400a32f8017",
   "metadata": {},
   "outputs": [],
   "source": []
  }
 ],
 "metadata": {
  "kernelspec": {
   "display_name": "Python 3 (ipykernel)",
   "language": "python",
   "name": "python3"
  },
  "language_info": {
   "codemirror_mode": {
    "name": "ipython",
    "version": 3
   },
   "file_extension": ".py",
   "mimetype": "text/x-python",
   "name": "python",
   "nbconvert_exporter": "python",
   "pygments_lexer": "ipython3",
   "version": "3.9.13"
  }
 },
 "nbformat": 4,
 "nbformat_minor": 5
}
